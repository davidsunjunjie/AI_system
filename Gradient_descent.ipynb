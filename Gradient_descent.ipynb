{
  "nbformat": 4,
  "nbformat_minor": 0,
  "metadata": {
    "colab": {
      "provenance": [],
      "authorship_tag": "ABX9TyNxR755wwZIhvB1YQlb7HeN",
      "include_colab_link": true
    },
    "kernelspec": {
      "name": "python3",
      "display_name": "Python 3"
    },
    "language_info": {
      "name": "python"
    }
  },
  "cells": [
    {
      "cell_type": "markdown",
      "metadata": {
        "id": "view-in-github",
        "colab_type": "text"
      },
      "source": [
        "<a href=\"https://colab.research.google.com/github/davidsunjunjie/AI_system/blob/main/Gradient_descent.ipynb\" target=\"_parent\"><img src=\"https://colab.research.google.com/assets/colab-badge.svg\" alt=\"Open In Colab\"/></a>"
      ]
    },
    {
      "cell_type": "markdown",
      "source": [
        "LECTURE: GRADIENT DESCENT in 1D\n",
        "A note for future of me:\n",
        "Consistency wins the Game\n",
        "Good job!"
      ],
      "metadata": {
        "id": "7zZG61YHJJUD"
      }
    },
    {
      "cell_type": "code",
      "execution_count": null,
      "metadata": {
        "id": "eViwqhDtAIer"
      },
      "outputs": [],
      "source": [
        "#import all necessary modules\n",
        "import numpy as np\n",
        "import matplotlib.pyplot as plt\n",
        "\n",
        "from IPython import display\n",
        "display.set_matplotlib_formats('svg')"
      ]
    },
    {
      "cell_type": "markdown",
      "source": [
        "Gradient descent in 1D\n"
      ],
      "metadata": {
        "id": "2fcFYbHbAm3M"
      }
    },
    {
      "cell_type": "code",
      "source": [
        "#function (as a function)\n",
        "def fx(x):\n",
        "  return 3*x**2 -3*x +4\n",
        "\n",
        "#derivative function\n",
        "def deriv(x):\n",
        "  return 6*x - 3\n",
        ""
      ],
      "metadata": {
        "id": "AqZR4-p9AqHG"
      },
      "execution_count": 20,
      "outputs": []
    },
    {
      "cell_type": "code",
      "source": [
        "#plot the function and its derivative\n",
        "x= np.linspace(-2,2,2001)\n",
        "#plotting\n",
        "plt.plot(x,fx(x),x,deriv(x))\n",
        "plt.xlim(x[[0,-1]])\n",
        "plt.grid()\n",
        "plt.xlabel('x')\n",
        "plt.ylabel('f(x)')\n",
        "plt.legend(['y','dy'])\n",
        "plt.show()"
      ],
      "metadata": {
        "id": "TUfUUXUkA4_Z"
      },
      "execution_count": null,
      "outputs": []
    },
    {
      "cell_type": "code",
      "source": [
        "# random starting point\n",
        "localmin = np.random.choice(x,1)\n",
        "#learning parameters\n",
        "learning_rate = 0.01\n",
        "training_epochs = 100\n",
        "# run through training\n",
        "for i in range(training_epochs):\n",
        "  grad = deriv(localmin)\n",
        "  localmin = localmin - learning_rate*grad\n",
        "\n",
        "localmin"
      ],
      "metadata": {
        "colab": {
          "base_uri": "https://localhost:8080/"
        },
        "id": "WDcLwyQQBg0z",
        "outputId": "a4231055-4dd4-40b5-b096-0e6e0a1f09f0"
      },
      "execution_count": 22,
      "outputs": [
        {
          "output_type": "execute_result",
          "data": {
            "text/plain": [
              "array([0.49926435])"
            ]
          },
          "metadata": {},
          "execution_count": 22
        }
      ]
    },
    {
      "cell_type": "code",
      "source": [
        "plt.plot(x,fx(x),x,deriv(x))\n",
        "plt.plot(localmin,deriv(localmin),'ro')\n",
        "plt.plot(localmin,fx(localmin),'ro')\n",
        "\n",
        "plt.xlim(x[[0,-1]])\n",
        "plt.grid()\n",
        "plt.xlabel('x')\n",
        "plt.ylabel('f(x)')\n",
        "plt.legend(['f(x)','df','f(x) min'])\n",
        "plt.title('Empirical local minimum:%s'%localmin[0])\n",
        "plt.show()"
      ],
      "metadata": {
        "id": "S82beZoRCRST"
      },
      "execution_count": null,
      "outputs": []
    },
    {
      "cell_type": "code",
      "source": [
        "#random starting point\n",
        "localmin = np.random.choice(x,1)\n",
        "#learning parameters\n",
        "learning_rate = 0.01\n",
        "training_epochs = 100\n",
        "#run through training and store all the results\n",
        "modelparams = np.zeros((training_epochs,2))\n",
        "for i in range(training_epochs):\n",
        "  grad = deriv(localmin)\n",
        "  localmin = localmin - learning_rate*grad\n",
        "  modelparams[i,:] = localmin,grad # this means that for i row that I select them all columns"
      ],
      "metadata": {
        "colab": {
          "base_uri": "https://localhost:8080/"
        },
        "id": "u8cocGTpDvd4",
        "outputId": "7f104a77-7196-424c-faea-106778f6e11f"
      },
      "execution_count": 31,
      "outputs": [
        {
          "output_type": "stream",
          "name": "stderr",
          "text": [
            "<ipython-input-31-074308fbe494>:11: DeprecationWarning: setting an array element with a sequence. This was supported in some cases where the elements are arrays with a single element. For example `np.array([1, np.array([2])], dtype=int)`. In the future this will raise the same ValueError as `np.array([1, [2]], dtype=int)`.\n",
            "  modelparams[i,:] = localmin,grad # this means that for i row that I select them all columns\n"
          ]
        }
      ]
    },
    {
      "cell_type": "code",
      "source": [
        "fig,ax = plt.subplots(1,2,figsize=(12,4))\n",
        "\n",
        "for i in range(2):\n",
        "  ax[i].plot(modelparams[:,i],'o-')\n",
        "  ax[i].set_xlabel('Iteration')\n",
        "  ax[i].set_title(f'Final estimated minimum: {localmin[0]:.5f}')\n",
        "\n",
        "ax[0].set_ylabel('Local minimum')\n",
        "ax[1].set_ylabel('Derivative')\n",
        "\n",
        "plt.show()"
      ],
      "metadata": {
        "id": "DFWrOHl-E2c-"
      },
      "execution_count": null,
      "outputs": []
    }
  ]
}